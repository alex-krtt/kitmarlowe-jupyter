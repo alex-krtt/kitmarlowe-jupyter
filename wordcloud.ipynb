{
 "cells": [
  {
   "cell_type": "code",
   "execution_count": null,
   "metadata": {},
   "outputs": [],
   "source": [
    "%pip install wordcloud"
   ]
  },
  {
   "cell_type": "code",
   "execution_count": null,
   "metadata": {},
   "outputs": [],
   "source": [
    "import glob\n",
    "from wordcloud import WordCloud, STOPWORDS\n",
    "import matplotlib.pyplot as plt\n",
    "\n",
    "def generate_wordcloud(corpus_directory, max_words=50):\n",
    "    files = glob.glob(corpus_directory)\n",
    "\n",
    "    text = \"\"\n",
    "    for file in files:\n",
    "        with open(file, 'r') as f:\n",
    "            text += f.read()\n",
    "\n",
    "    if len(text) == 0:\n",
    "        raise ValueError(\"No text found to generate word cloud.\")\n",
    "\n",
    "    stopwords = set(STOPWORDS)\n",
    "    stopwords.update([\"tis\", \"s\", \"hath\"])\n",
    "\n",
    "    wordcloud = WordCloud(\n",
    "        background_color='white',\n",
    "        colormap='viridis',\n",
    "        width=800,\n",
    "        height=400,\n",
    "        min_font_size=10,\n",
    "        max_words=25,\n",
    "        stopwords=stopwords\n",
    "    ).generate(text)\n",
    "    plt.figure(figsize=(10, 5))\n",
    "    plt.imshow(wordcloud, interpolation='bilinear')\n",
    "    plt.axis(\"off\")\n",
    "    plt.tight_layout(pad=0)\n",
    "    plt.show()"
   ]
  },
  {
   "cell_type": "code",
   "execution_count": null,
   "metadata": {},
   "outputs": [],
   "source": [
    "print (\"Wordcloud for Shakespeare corpus\")\n",
    "generate_wordcloud (\"books/Shakespeare-corpus/*.txt\")"
   ]
  },
  {
   "cell_type": "code",
   "execution_count": null,
   "metadata": {},
   "outputs": [],
   "source": [
    "print (\"Wordcloud for Marlowe corpus\")\n",
    "generate_wordcloud (\"books/Marlowe-corpus/*.txt\")"
   ]
  }
 ],
 "metadata": {
  "kernelspec": {
   "display_name": "Python 3 (ipykernel)",
   "language": "python",
   "name": "python3"
  },
  "language_info": {
   "codemirror_mode": {
    "name": "ipython",
    "version": 3
   },
   "file_extension": ".py",
   "mimetype": "text/x-python",
   "name": "python",
   "nbconvert_exporter": "python",
   "pygments_lexer": "ipython3",
   "version": "3.11.0"
  }
 },
 "nbformat": 4,
 "nbformat_minor": 4
}
