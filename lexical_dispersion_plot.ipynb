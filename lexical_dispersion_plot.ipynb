{
 "cells": [
  {
   "cell_type": "code",
   "execution_count": null,
   "metadata": {},
   "outputs": [],
   "source": [
    "import glob\n",
    "import matplotlib.pyplot as plt\n",
    "from nltk.tokenize import TreebankWordTokenizer\n",
    "from string import punctuation"
   ]
  },
  {
   "cell_type": "code",
   "execution_count": null,
   "metadata": {},
   "outputs": [],
   "source": [
    "# Modify the list of words to be searched for\n",
    "words = ['war', 'love', 'death', 'life', 'marry', 'fight', 'king', 'queen']"
   ]
  },
  {
   "cell_type": "code",
   "execution_count": null,
   "metadata": {},
   "outputs": [],
   "source": [
    "for file_path in glob.glob(\"books/**/*.txt\", recursive=True):\n",
    "    with open(file_path, \"r\") as file:\n",
    "        text = file.read()\n",
    "\n",
    "    # Custom Tokenizer\n",
    "    # Start of Go-To Tokenizer for English - Modified TreebankWordTokenize\n",
    "    tokens = TreebankWordTokenizer().tokenize(text)\n",
    "    for word in tokens:\n",
    "        word = word.lower().strip(punctuation)\n",
    "    tokens = list(filter(None, tokens))  \n",
    "    ## EOF Function\n",
    "\n",
    "    points = [(x, y) for x in range(len(tokens))\n",
    "        for y in range(len(words)) if tokens[x] == words[y]]\n",
    "\n",
    "    if points:\n",
    "        x, y = zip(*points)\n",
    "    else:\n",
    "        x = y = ()\n",
    "    \n",
    "    print(f\"Lexical Dispersion Plot for {file_path}\")\n",
    "\n",
    "    plt.figure(figsize=(8, 6))\n",
    "    plt.plot(x, y, \"rx\")\n",
    "    plt.yticks(range(len(words)), words)\n",
    "    plt.ylim(-1, len(words))\n",
    "    plt.title(f\"Lexical Dispersion Plot for {file_path}\")\n",
    "    plt.xlabel(\"Word Offset\")\n",
    "    plt.show()"
   ]
  }
 ],
 "metadata": {
  "kernelspec": {
   "display_name": "Python 3 (ipykernel)",
   "language": "python",
   "name": "python3"
  },
  "language_info": {
   "codemirror_mode": {
    "name": "ipython",
    "version": 3
   },
   "file_extension": ".py",
   "mimetype": "text/x-python",
   "name": "python",
   "nbconvert_exporter": "python",
   "pygments_lexer": "ipython3",
   "version": "3.11.0"
  }
 },
 "nbformat": 4,
 "nbformat_minor": 4
}
