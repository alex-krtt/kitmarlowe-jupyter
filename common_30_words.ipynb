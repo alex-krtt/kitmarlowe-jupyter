{
 "cells": [
  {
   "cell_type": "markdown",
   "id": "e3632f97",
   "metadata": {},
   "source": [
    "\n",
    "Notebook"
   ]
  },
  {
   "cell_type": "code",
   "execution_count": null,
   "metadata": {},
   "outputs": [],
   "source": [
    "%pip install spacy\n",
    "\n",
    "import sys\n",
    "import os\n",
    "\n",
    "if sys.platform.startswith('win'):\n",
    "    os.system('python -m spacy download en_core_web_md')\n",
    "elif sys.platform.startswith('darwin') or sys.platform.startswith('linux'):\n",
    "    os.system('python3 -m spacy download en_core_web_md')"
   ]
  },
  {
   "cell_type": "code",
   "execution_count": null,
   "id": "d012344c",
   "metadata": {},
   "outputs": [],
   "source": [
    "import spacy\n",
    "from collections import Counter\n",
    "import matplotlib.pyplot as plt\n",
    "%matplotlib inline\n",
    "import ipywidgets as widgets\n",
    "from IPython.display import display\n",
    "\n",
    "nlp = spacy.load(\"en_core_web_md\")\n",
    "\n",
    "# +marlowe\n",
    "\n",
    "file_path = \"books/Shakespeare/much-ado-text.txt\"\n",
    "with open(file_path, \"r\") as file:\n",
    "    text = file.read()\n",
    "\n",
    "doc = nlp(text)\n",
    "\n",
    "filtered_tokens = []\n",
    "for token in doc:\n",
    "    if not token.is_stop and not token.is_punct and token.lemma_.isalpha() and len(token.lemma_) > 2:\n",
    "        filtered_tokens.append(token.lemma_)\n"
   ]
  },
  {
   "cell_type": "code",
   "execution_count": null,
   "id": "777d76cd",
   "metadata": {},
   "outputs": [],
   "source": [
    "# The slider controls the number of words to display\n",
    "slider = widgets.IntSlider(value=10, min=1, max=100, step=1, description='Slider:')\n",
    "display(slider)"
   ]
  },
  {
   "cell_type": "code",
   "execution_count": null,
   "id": "5f34f8c2",
   "metadata": {},
   "outputs": [],
   "source": [
    "nouns = []\n",
    "adjectives = []\n",
    "verbs = []\n",
    "\n",
    "for token in doc:\n",
    "    if token.pos_ == \"NOUN\":\n",
    "        nouns.append(token.text)\n",
    "    elif token.pos_ == \"ADJ\":\n",
    "        adjectives.append(token.text)\n",
    "    elif token.pos_ == \"VERB\":\n",
    "        verbs.append(token.text)\n",
    "\n",
    "nouns_fd = Counter(nouns)\n",
    "adjectives_fd = Counter(adjectives)\n",
    "verbs_fd = Counter(verbs)\n",
    "\n",
    "nouns_30 = nouns_fd.most_common(slider.value)\n",
    "adjectives_30 = adjectives_fd.most_common(slider.value)\n",
    "verbs_30 = verbs_fd.most_common(slider.value)\n",
    "\n",
    "nouns_30_words = []\n",
    "adjectives_30_words = []\n",
    "verbs_30_words = []\n",
    "\n",
    "for word, freq in nouns_30:\n",
    "    nouns_30_words.append(word)\n",
    "\n",
    "for word, freq in adjectives_30:\n",
    "    adjectives_30_words.append(word)\n",
    "\n",
    "for word, freq in verbs_30:\n",
    "    verbs_30_words.append(word)\n",
    "\n",
    "nouns_30_freq = []\n",
    "adjectives_30_freq = []\n",
    "verbs_30_freq = []\n",
    "\n",
    "for word, freq in nouns_30:\n",
    "    nouns_30_freq.append(freq)\n",
    "\n",
    "for word, freq in adjectives_30:\n",
    "    adjectives_30_freq.append(freq)\n",
    "\n",
    "for word, freq in verbs_30:\n",
    "    verbs_30_freq.append(freq)\n",
    "\n",
    "plt.figure(figsize=(15, 10))  # sets the figure size to x inches by y inches\n",
    "plt.bar(nouns_30_words, nouns_30_freq, label=\"Nouns\")\n",
    "plt.bar(adjectives_30_words, adjectives_30_freq, label=\"Adjectives\")\n",
    "plt.bar(verbs_30_words, verbs_30_freq, label=\"Verbs\")\n",
    "plt.xticks(rotation=90)\n",
    "plt.legend()\n",
    "plt.show()"
   ]
  }
 ],
 "metadata": {
  "kernelspec": {
   "display_name": "Python 3 (ipykernel)",
   "language": "python",
   "name": "python3"
  },
  "language_info": {
   "codemirror_mode": {
    "name": "ipython",
    "version": 3
   },
   "file_extension": ".py",
   "mimetype": "text/x-python",
   "name": "python",
   "nbconvert_exporter": "python",
   "pygments_lexer": "ipython3",
   "version": "3.11.5"
  }
 },
 "nbformat": 4,
 "nbformat_minor": 5
}
