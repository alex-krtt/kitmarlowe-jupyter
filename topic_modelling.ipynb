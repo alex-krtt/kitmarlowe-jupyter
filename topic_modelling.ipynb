{
 "cells": [
  {
   "cell_type": "markdown",
   "metadata": {},
   "source": [
    "# Topic Modelling"
   ]
  },
  {
   "cell_type": "code",
   "execution_count": null,
   "metadata": {},
   "outputs": [],
   "source": [
    "# Installs requirements in case they are missing\n",
    "%pip install spacy gensim pyLDAvis\n",
    "import sys\n",
    "import os\n",
    "\n",
    "if sys.platform.startswith('win'):\n",
    "    os.system('python -m spacy download en_core_web_md')\n",
    "elif sys.platform.startswith('darwin') or sys.platform.startswith('linux'):\n",
    "    os.system('python3 -m spacy download en_core_web_md')"
   ]
  },
  {
   "cell_type": "code",
   "execution_count": null,
   "metadata": {},
   "outputs": [],
   "source": [
    "import glob\n",
    "import spacy\n",
    "from gensim import corpora\n",
    "from gensim.models.ldamodel import LdaModel\n",
    "import pyLDAvis.gensim\n",
    "from IPython.display import display\n",
    "import pyLDAvis\n",
    "\n",
    "pyLDAvis.enable_notebook()\n",
    "\n",
    "nlp = spacy.load('en_core_web_md')"
   ]
  },
  {
   "cell_type": "code",
   "execution_count": null,
   "metadata": {},
   "outputs": [],
   "source": [
    "def preprocess(text):\n",
    "    doc = nlp(text)\n",
    "    filtered_tokens = []\n",
    "    for token in doc:\n",
    "        if not token.is_stop and not token.is_punct and token.lemma_.isalpha():\n",
    "            filtered_tokens.append(token.lemma_)\n",
    "    return filtered_tokens\n",
    "\n",
    "def create_lda_model(file_paths):\n",
    "    documents = []\n",
    "    for path_book_name in file_paths:\n",
    "        with open(path_book_name, 'r') as file:\n",
    "            documents.append(file.read())\n",
    "\n",
    "    cleaned_texts = []\n",
    "    for doc in documents:\n",
    "        cleaned_texts.append(preprocess(doc))\n",
    "\n",
    "    dictionary = corpora.Dictionary(cleaned_texts)\n",
    "    corpus = [dictionary.doc2bow(text) for text in cleaned_texts]\n",
    "\n",
    "    lda_model = LdaModel(corpus, num_topics=10, id2word=dictionary, passes=15)\n",
    "    \n",
    "    return lda_model, corpus, dictionary"
   ]
  },
  {
   "cell_type": "markdown",
   "metadata": {},
   "source": [
    "The Intertopic Distance Map is a visualization tool that is often used in topic modeling to show the relationships between different topics.\n",
    "In the graphs below each topic is represented as a bubble, and the distance between the bubbles represents the similarity between the topics. Topics that are closer together are more similar. The size of the bubble represents the prevalence of the topic in the corpus.\n",
    "Information Source: pyLDAvis documentation"
   ]
  },
  {
   "cell_type": "code",
   "execution_count": null,
   "metadata": {},
   "outputs": [],
   "source": [
    "# Create LDA model for Marlowe books\n",
    "marlowe_files = glob.glob(\"books/Marlowe-corpus/*.txt\")\n",
    "marlowe_lda_model, marlowe_corpus, marlowe_dictionary = create_lda_model(marlowe_files)\n",
    "marlowe_vis = pyLDAvis.gensim.prepare(marlowe_lda_model, marlowe_corpus, marlowe_dictionary)\n",
    "\n",
    "# Create LDA model for Shakespeare books\n",
    "shakespeare_files = glob.glob(\"books/Shakespeare-corpus/*.txt\")\n",
    "shakespeare_lda_model, shakespeare_corpus, shakespeare_dictionary = create_lda_model(shakespeare_files)\n",
    "shakespeare_vis = pyLDAvis.gensim.prepare(shakespeare_lda_model, shakespeare_corpus, shakespeare_dictionary)\n",
    "\n",
    "# Display the visualizations\n",
    "print(\"Marlowe Corpus Topics:\")\n",
    "pyLDAvis.display(marlowe_vis)\n",
    "\n",
    "print(\"Shakespeare Corpus Topics:\")\n",
    "pyLDAvis.display(shakespeare_vis)"
   ]
  },
  {
   "cell_type": "code",
   "execution_count": null,
   "metadata": {},
   "outputs": [],
   "source": [
    "if len(glob.glob(\"books/custom-corpus/*.txt\")) > 0:\n",
    "    custom_lda_model, custom_corpus, custom_dictionary = create_lda_model(glob.glob(\"books/custom-corpus/*.txt\"))\n",
    "\n",
    "    # Display the visualization\n",
    "    print(\"Custom Corpus Topics:\")\n",
    "    display(pyLDAvis.gensim.prepare(custom_lda_model, custom_corpus, custom_dictionary))\n",
    "else:\n",
    "    print(\"No text files found in the custom-corpus directory.\")"
   ]
  }
 ],
 "metadata": {
  "kernelspec": {
   "display_name": "Python 3 (ipykernel)",
   "language": "python",
   "name": "python3"
  },
  "language_info": {
   "codemirror_mode": {
    "name": "ipython",
    "version": 3
   },
   "file_extension": ".py",
   "mimetype": "text/x-python",
   "name": "python",
   "nbconvert_exporter": "python",
   "pygments_lexer": "ipython3",
   "version": "3.11.0"
  }
 },
 "nbformat": 4,
 "nbformat_minor": 4
}
