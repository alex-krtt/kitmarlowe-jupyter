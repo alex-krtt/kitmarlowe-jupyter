{
 "cells": [
  {
   "cell_type": "code",
   "execution_count": 2,
   "metadata": {},
   "outputs": [
    {
     "name": "stdout",
     "output_type": "stream",
     "text": [
      "Requirement already satisfied: nltk in /Users/alex-krett/anaconda3/lib/python3.11/site-packages (3.8.1)\n",
      "Requirement already satisfied: textblob in /Users/alex-krett/anaconda3/lib/python3.11/site-packages (0.17.1)\n",
      "Requirement already satisfied: matplotlib in /Users/alex-krett/anaconda3/lib/python3.11/site-packages (3.7.0)\n",
      "Requirement already satisfied: numpy in /Users/alex-krett/anaconda3/lib/python3.11/site-packages (1.26.2)\n",
      "Requirement already satisfied: pyarrow in /Users/alex-krett/anaconda3/lib/python3.11/site-packages (11.0.0)\n",
      "Requirement already satisfied: click in /Users/alex-krett/anaconda3/lib/python3.11/site-packages (from nltk) (8.1.7)\n",
      "Requirement already satisfied: joblib in /Users/alex-krett/anaconda3/lib/python3.11/site-packages (from nltk) (1.2.0)\n",
      "Requirement already satisfied: regex>=2021.8.3 in /Users/alex-krett/anaconda3/lib/python3.11/site-packages (from nltk) (2023.10.3)\n",
      "Requirement already satisfied: tqdm in /Users/alex-krett/anaconda3/lib/python3.11/site-packages (from nltk) (4.65.0)\n",
      "Requirement already satisfied: contourpy>=1.0.1 in /Users/alex-krett/anaconda3/lib/python3.11/site-packages (from matplotlib) (1.2.0)\n",
      "Requirement already satisfied: cycler>=0.10 in /Users/alex-krett/anaconda3/lib/python3.11/site-packages (from matplotlib) (0.11.0)\n",
      "Requirement already satisfied: fonttools>=4.22.0 in /Users/alex-krett/anaconda3/lib/python3.11/site-packages (from matplotlib) (4.25.0)\n",
      "Requirement already satisfied: kiwisolver>=1.0.1 in /Users/alex-krett/anaconda3/lib/python3.11/site-packages (from matplotlib) (1.4.4)\n",
      "Requirement already satisfied: packaging>=20.0 in /Users/alex-krett/anaconda3/lib/python3.11/site-packages (from matplotlib) (23.1)\n",
      "Requirement already satisfied: pillow>=6.2.0 in /Users/alex-krett/anaconda3/lib/python3.11/site-packages (from matplotlib) (10.0.1)\n",
      "Requirement already satisfied: pyparsing>=2.3.1 in /Users/alex-krett/anaconda3/lib/python3.11/site-packages (from matplotlib) (3.0.9)\n",
      "Requirement already satisfied: python-dateutil>=2.7 in /Users/alex-krett/anaconda3/lib/python3.11/site-packages (from matplotlib) (2.8.2)\n",
      "Requirement already satisfied: six>=1.5 in /Users/alex-krett/anaconda3/lib/python3.11/site-packages (from python-dateutil>=2.7->matplotlib) (1.16.0)\n",
      "Note: you may need to restart the kernel to use updated packages.\n"
     ]
    },
    {
     "name": "stderr",
     "output_type": "stream",
     "text": [
      "[nltk_data] Downloading package punkt to /Users/alex-\n",
      "[nltk_data]     krett/nltk_data...\n",
      "[nltk_data]   Package punkt is already up-to-date!\n",
      "[nltk_data] Downloading package vader_lexicon to /Users/alex-\n",
      "[nltk_data]     krett/nltk_data...\n",
      "[nltk_data]   Package vader_lexicon is already up-to-date!\n"
     ]
    },
    {
     "data": {
      "text/plain": [
       "True"
      ]
     },
     "execution_count": 2,
     "metadata": {},
     "output_type": "execute_result"
    }
   ],
   "source": [
    "%pip install nltk textblob matplotlib numpy pyarrow\n",
    "\n",
    "import nltk\n",
    "from nltk.sentiment.vader import SentimentIntensityAnalyzer\n",
    "from nltk.tokenize import sent_tokenize\n",
    "from textblob import TextBlob # alternative for sentiment analysis\n",
    "import matplotlib.pyplot as plt\n",
    "import numpy as np\n",
    "import glob\n",
    "\n",
    "nltk.download('punkt')\n",
    "nltk.download('vader_lexicon')"
   ]
  },
  {
   "cell_type": "code",
   "execution_count": 6,
   "metadata": {},
   "outputs": [
    {
     "name": "stdout",
     "output_type": "stream",
     "text": [
      "Review: This product is great!\n",
      "Sentiment: Positive\n",
      "Review: I really do not like this item.\n",
      "Sentiment: Negative\n",
      "Review: It's okay, not the best.\n",
      "Sentiment: Positive\n",
      "Review: This product is great!\n",
      "Sentiment: Positive\n",
      "Review: I really do not like this item.\n",
      "Sentiment: Negative\n",
      "Review: It's okay, not the best.\n",
      "Sentiment: Negative\n"
     ]
    }
   ],
   "source": [
    "reviews = [\"This product is great!\", \"I really do not like this item.\", \"It's okay, not the best.\"]\n",
    "\n",
    "for review in reviews:\n",
    "    sentiment = TextBlob(review).sentiment.polarity\n",
    "    if sentiment > 0:\n",
    "        print(f\"Review: {review}\\nSentiment: Positive\")\n",
    "    elif sentiment < 0:\n",
    "        print(f\"Review: {review}\\nSentiment: Negative\")\n",
    "    else:\n",
    "        print(f\"Review: {review}\\nSentiment: Neutral\")\n",
    "\n",
    "sia = SentimentIntensityAnalyzer()\n",
    "for review in reviews:\n",
    "    sentiment = sia.polarity_scores(review)\n",
    "    if sentiment['compound'] > 0:\n",
    "        print(f\"Review: {review}\\nSentiment: Positive\")\n",
    "    elif sentiment['compound'] < 0:\n",
    "        print(f\"Review: {review}\\nSentiment: Negative\")\n",
    "    else:\n",
    "        print(f\"Review: {review}\\nSentiment: Neutral\")"
   ]
  }
 ],
 "metadata": {
  "kernelspec": {
   "display_name": "base",
   "language": "python",
   "name": "python3"
  },
  "language_info": {
   "codemirror_mode": {
    "name": "ipython",
    "version": 3
   },
   "file_extension": ".py",
   "mimetype": "text/x-python",
   "name": "python",
   "nbconvert_exporter": "python",
   "pygments_lexer": "ipython3",
   "version": "3.11.0"
  }
 },
 "nbformat": 4,
 "nbformat_minor": 2
}
