{
 "cells": [
  {
   "cell_type": "code",
   "execution_count": null,
   "metadata": {},
   "outputs": [],
   "source": [
    "# Installs requirements in case they are missing\n",
    "%pip install spacy gensim\n",
    "!python -m spacy download en_core_web_md"
   ]
  },
  {
   "cell_type": "code",
   "execution_count": null,
   "metadata": {},
   "outputs": [],
   "source": [
    "import spacy\n",
    "import gensim\n",
    "import os\n",
    "import glob\n",
    "from gensim import corpora\n",
    "from gensim.models.ldamodel import LdaModel\n",
    "\n",
    "nlp = spacy.load('en_core_web_md')\n",
    "\n",
    "def preprocess(text):\n",
    "    doc = nlp(text)\n",
    "    filtered_tokens = []\n",
    "    for token in doc:\n",
    "        if not token.is_stop and not token.is_punct and token.lemma_.isalpha():\n",
    "            filtered_tokens.append(token.lemma_)\n",
    "    return filtered_tokens\n",
    "\n",
    "list_files_name = glob.glob(\"books/*.txt\")\n",
    "\n",
    "documents = []\n",
    "for path_book_name in list_files_name:\n",
    "    with open(path_book_name, 'r') as file:\n",
    "        documents.append(file.read())\n",
    "\n",
    "cleaned_texts = []\n",
    "for doc in documents:\n",
    "    cleaned_texts.append(preprocess(doc))\n",
    "\n",
    "dictionary = corpora.Dictionary(cleaned_texts)\n",
    "corpus = [dictionary.doc2bow(text) for text in cleaned_texts]\n",
    "\n",
    "lda_model = LdaModel(corpus, num_topics=10, id2word=dictionary, passes=15)"
   ]
  },
  {
   "cell_type": "code",
   "execution_count": null,
   "metadata": {},
   "outputs": [],
   "source": [
    "topics = lda_model.print_topics(num_words=10)\n",
    "for topic in topics:\n",
    "    print(topic)"
   ]
  }
 ],
 "metadata": {
  "kernelspec": {
   "display_name": "Python 3 (ipykernel)",
   "language": "python",
   "name": "python3"
  },
  "language_info": {
   "codemirror_mode": {
    "name": "ipython",
    "version": 3
   },
   "file_extension": ".py",
   "mimetype": "text/x-python",
   "name": "python",
   "nbconvert_exporter": "python",
   "pygments_lexer": "ipython3",
   "version": "3.8.17"
  }
 },
 "nbformat": 4,
 "nbformat_minor": 4
}
