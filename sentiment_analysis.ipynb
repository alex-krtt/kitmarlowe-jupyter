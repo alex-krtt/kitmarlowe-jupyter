{
 "cells": [
  {
   "cell_type": "markdown",
   "metadata": {},
   "source": [
    "# Sentiment Analysis on Marlowe and Shakespeare corpora\n",
    "## Dependency Installation and Import Required Modules"
   ]
  },
  {
   "cell_type": "code",
   "execution_count": null,
   "metadata": {},
   "outputs": [],
   "source": [
    "%pip install nltk textblob matplotlib numpy\n",
    "\n",
    "import nltk\n",
    "from nltk.sentiment.vader import SentimentIntensityAnalyzer\n",
    "from nltk.tokenize import sent_tokenize\n",
    "from textblob import TextBlob\n",
    "import matplotlib.pyplot as plt\n",
    "import numpy as np\n",
    "import glob\n",
    "\n",
    "nltk.download('punkt')\n",
    "nltk.download('vader_lexicon')"
   ]
  },
  {
   "cell_type": "markdown",
   "metadata": {},
   "source": [
    "## Function Definitions"
   ]
  },
  {
   "cell_type": "code",
   "execution_count": null,
   "metadata": {},
   "outputs": [],
   "source": [
    "def analyze_sentiment (book):\n",
    "    with open(book, \"r\") as file:\n",
    "        text = file.read()\n",
    "\n",
    "    # Tokenize the text into sentences\n",
    "    sentences = sent_tokenize(text)\n",
    "\n",
    "    sia = SentimentIntensityAnalyzer()\n",
    "    sentiment_scores = []\n",
    "\n",
    "    def get_value(sentence):\n",
    "        return sia.polarity_scores(sentence)[\"compound\"]\n",
    "\n",
    "    for sentence in sentences:\n",
    "        value = get_value(sentence)\n",
    "        sentiment_scores.append(value)\n",
    "\n",
    "    # Define the window size for the moving average - number of senteces\n",
    "    window_size = 15\n",
    "\n",
    "    # Calculate the moving average using numpy's convolve function\n",
    "    moving_averages = np.convolve(sentiment_scores, np.ones(window_size)/window_size, mode='valid')\n",
    "\n",
    "    # Update sentence_numbers to match the length of moving_averages\n",
    "    sentence_numbers = list(range(1, len(moving_averages) + 1))\n",
    "\n",
    "    plt.figure(figsize=(14,6))\n",
    "    plt.plot(sentence_numbers, moving_averages)\n",
    "    plt.xlabel(\"Sentence Number\")\n",
    "    plt.ylabel(\"Sentiment Score\")\n",
    "    plt.title(\"Sentiment Analysis of \" + book)\n",
    "    plt.show()"
   ]
  },
  {
   "cell_type": "markdown",
   "metadata": {},
   "source": [
    "## Generating Sentiment Analysis Graphs\n",
    "### Example usage on Hamlet"
   ]
  },
  {
   "cell_type": "code",
   "execution_count": null,
   "metadata": {},
   "outputs": [],
   "source": [
    "analyze_sentiment(\"books/Shakespeare-corpus/Ham Hamlet.txt\")"
   ]
  },
  {
   "cell_type": "markdown",
   "metadata": {},
   "source": [
    "### Uncomment the following lines to generate graphs for all books under the Shakespeare & Marlowe corpora"
   ]
  },
  {
   "cell_type": "code",
   "execution_count": null,
   "metadata": {},
   "outputs": [],
   "source": [
    "for file_path in glob.glob(\"books/Shakespeare-corpus/*.txt\", recursive=True): analyze_sentiment(file_path)\n",
    "# for file_path in glob.glob(\"books/Marlowe-corpus/*.txt\", recursive=True): analyze_sentiment(file_path)"
   ]
  },
  {
   "cell_type": "code",
   "execution_count": null,
   "metadata": {},
   "outputs": [],
   "source": [
    "# Uncomment the following line by removing the # at the beginning of the line\n",
    "# to analyze the sentiment of the entire Shakespeare corpus\n",
    "for file_path in glob.glob(\"books/Shakespeare-corpus/*.txt\", recursive=True): analyze_sentiment(file_path)"
   ]
  },
  {
   "cell_type": "markdown",
   "metadata": {},
   "source": [
    "### Custom Corpora\n",
    "### Uncomment the following lines to generate graphs for all books under books/custom-corpus folder"
   ]
  },
  {
   "cell_type": "code",
   "execution_count": null,
   "metadata": {},
   "outputs": [],
   "source": [
    "for file_path in glob.glob(\"books/custom-corpus/**/*.txt\", recursive=True): analyze_sentiment(file_path)"
   ]
  }
 ],
 "metadata": {
  "kernelspec": {
   "display_name": "Python 3 (ipykernel)",
   "language": "python",
   "name": "python3"
  },
  "language_info": {
   "codemirror_mode": {
    "name": "ipython",
    "version": 3
   },
   "file_extension": ".py",
   "mimetype": "text/x-python",
   "name": "python",
   "nbconvert_exporter": "python",
   "pygments_lexer": "ipython3",
   "version": "3.11.0"
  }
 },
 "nbformat": 4,
 "nbformat_minor": 4
}
