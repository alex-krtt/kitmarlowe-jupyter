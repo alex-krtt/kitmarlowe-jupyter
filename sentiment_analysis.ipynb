{
 "cells": [
  {
   "cell_type": "code",
   "execution_count": null,
   "metadata": {},
   "outputs": [],
   "source": [
    "from string import punctuation\n",
    "from math import ceil\n",
    "from nltk.corpus import stopwords\n",
    "from nltk.sentiment.vader import SentimentIntensityAnalyzer\n",
    "from nltk.tokenize import sent_tokenize\n",
    "import matplotlib.pyplot as plt\n",
    "import numpy as np\n",
    "import glob"
   ]
  },
  {
   "cell_type": "code",
   "execution_count": null,
   "metadata": {},
   "outputs": [],
   "source": [
    "def analyze_sentiment (book):\n",
    "    with open(book, \"r\") as file:\n",
    "        text = file.read()\n",
    "\n",
    "    # Tokenize the text into sentences\n",
    "    sentences = sent_tokenize(text)\n",
    "\n",
    "    sia = SentimentIntensityAnalyzer()\n",
    "    sentiment_scores = []\n",
    "\n",
    "    def get_value(sentence):\n",
    "        return sia.polarity_scores(sentence)[\"compound\"]\n",
    "\n",
    "    for sentence in sentences:\n",
    "        value = get_value(sentence)\n",
    "        sentiment_scores.append(value)\n",
    "\n",
    "    # Define the window size for the moving average - number of senteces\n",
    "    window_size = 10\n",
    "\n",
    "    # Calculate the moving average using numpy's convolve function\n",
    "    moving_averages = np.convolve(sentiment_scores, np.ones(window_size)/window_size, mode='valid')\n",
    "\n",
    "    # Update sentence_numbers to match the length of moving_averages\n",
    "    sentence_numbers = list(range(1, len(moving_averages) + 1))\n",
    "\n",
    "    plt.figure(figsize=(14,6))\n",
    "    plt.plot(sentence_numbers, moving_averages)\n",
    "    plt.xlabel(\"Sentence Number\")\n",
    "    plt.ylabel(\"Sentiment Score\")\n",
    "    plt.title(\"Sentiment Analysis of \" + book)\n",
    "    plt.ylim(-1, 1)\n",
    "    plt.show()\n",
    "\n",
    "for file_path in glob.glob(\"books/**/*.txt\", recursive=True):\n",
    "    analyze_sentiment(file_path)"
   ]
  }
 ],
 "metadata": {
  "kernelspec": {
   "display_name": "Python 3 (ipykernel)",
   "language": "python",
   "name": "python3"
  },
  "language_info": {
   "codemirror_mode": {
    "name": "ipython",
    "version": 3
   },
   "file_extension": ".py",
   "mimetype": "text/x-python",
   "name": "python",
   "nbconvert_exporter": "python",
   "pygments_lexer": "ipython3",
   "version": "3.11.5"
  }
 },
 "nbformat": 4,
 "nbformat_minor": 4
}
