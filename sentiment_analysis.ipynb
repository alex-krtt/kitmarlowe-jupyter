{
 "cells": [
  {
   "cell_type": "code",
   "execution_count": null,
   "metadata": {},
   "outputs": [],
   "source": [
    "from string import punctuation\n",
    "from math import ceil\n",
    "from nltk.corpus import stopwords\n",
    "from nltk.sentiment.vader import SentimentIntensityAnalyzer\n",
    "from nltk.tokenize import sent_tokenize\n",
    "import matplotlib.pyplot as plt"
   ]
  },
  {
   "cell_type": "code",
   "execution_count": null,
   "metadata": {},
   "outputs": [],
   "source": [
    "book = \"books/Shakespeare/much-ado-text.txt\"\n",
    "with open(\"books/Shakespeare/hamlet-text.txt\", \"r\") as file:\n",
    "    text = file.read()\n",
    "\n",
    "# Tokenize the text into sentences\n",
    "sentences = sent_tokenize(text)\n",
    "\n",
    "sia = SentimentIntensityAnalyzer()\n",
    "sentiment_scores = []\n",
    "\n",
    "def punctuation_count(text):\n",
    "    return sum([1 for char in text if char in punctuation])\n",
    "\n",
    "bins = len(sentences)/100\n",
    "print(\"bins: \",bins)\n",
    "\n",
    "def get_value(sentence):\n",
    "    return sia.polarity_scores(sentence)[\"compound\"]\n",
    "\n",
    "for sentence in sentences:\n",
    "    value = get_value(sentence)\n",
    "    sentiment_scores.append(value)\n",
    "\n",
    "max_value = max(sentiment_scores)\n",
    "min_value = min(sentiment_scores)\n",
    "\n",
    "print(\"max_value\", max_value)\n",
    "print(\"\\n\\nSample sentences and the respective sentiment scores:\")\n",
    "for sentence in sentences:\n",
    "    value = get_value(sentence)\n",
    "\n",
    "    threshold = 0.99\n",
    "\n",
    "    if max_value*threshold < value or min_value*threshold > value:\n",
    "        print(\"\\n\",sentence,\"\\n has a score of:\",value, \"punct:\",punctuation_count(sentence), \"newlines:\", sentence.count(\"\\n\"))"
   ]
  },
  {
   "cell_type": "code",
   "execution_count": null,
   "metadata": {},
   "outputs": [],
   "source": [
    "filtered_scores = sentiment_scores\n",
    "sentence_numbers = list(range(1, len(sentiment_scores) + 1))\n",
    "\n",
    "plt.figure(figsize=(14,6))\n",
    "plt.plot(sentence_numbers, filtered_scores)\n",
    "plt.xlabel(\"Sentence Number\")\n",
    "plt.ylabel(\"Sentiment Score\")\n",
    "plt.title(\"Sentiment Analysis of \")\n",
    "plt.show()"
   ]
  }
 ],
 "metadata": {
  "kernelspec": {
   "display_name": "Python 3 (ipykernel)",
   "language": "python",
   "name": "python3"
  },
  "language_info": {
   "codemirror_mode": {
    "name": "ipython",
    "version": 3
   },
   "file_extension": ".py",
   "mimetype": "text/x-python",
   "name": "python",
   "nbconvert_exporter": "python",
   "pygments_lexer": "ipython3",
   "version": "3.11.5"
  }
 },
 "nbformat": 4,
 "nbformat_minor": 4
}
