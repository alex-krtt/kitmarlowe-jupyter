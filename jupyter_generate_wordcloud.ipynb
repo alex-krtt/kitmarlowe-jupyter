{
 "cells": [
  {
   "cell_type": "code",
   "execution_count": null,
   "metadata": {},
   "outputs": [],
   "source": [
    "import glob\n",
    "import matplotlib.pyplot as plt\n",
    "from wordcloud import WordCloud\n",
    "from nltk import download as nltk_download\n",
    "from nltk.corpus import stopwords\n",
    "\n",
    "\n",
    "nltk_download(\"stopwords\")\n",
    "stopwords = set(stopwords.words(\"english\"))\n",
    "\n",
    "txt_files = glob.glob(\"books/*.txt\")\n",
    "\n",
    "for file in txt_files:\n",
    "    with open(file, \"r\") as f:\n",
    "        text = f.read()\n",
    "\n",
    "    text_wordcloud = WordCloud(max_words=100, max_font_size=200, stopwords=stopwords).generate(text)\n",
    "\n",
    "    print(\"Wordcloud for \"+file)\n",
    "    plt.imshow(text_wordcloud, interpolation=\"bilinear\")\n",
    "    plt.axis(\"off\")\n",
    "    plt.show()"
   ]
  }
 ],
 "metadata": {
  "kernelspec": {
   "display_name": "Python 3 (ipykernel)",
   "language": "python",
   "name": "python3"
  },
  "language_info": {
   "codemirror_mode": {
    "name": "ipython",
    "version": 3
   },
   "file_extension": ".py",
   "mimetype": "text/x-python",
   "name": "python",
   "nbconvert_exporter": "python",
   "pygments_lexer": "ipython3",
   "version": "3.11.5"
  }
 },
 "nbformat": 4,
 "nbformat_minor": 4
}
